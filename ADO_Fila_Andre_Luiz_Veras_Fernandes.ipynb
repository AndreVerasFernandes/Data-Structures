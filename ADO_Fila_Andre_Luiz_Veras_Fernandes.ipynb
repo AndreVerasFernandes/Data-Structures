{
  "nbformat": 4,
  "nbformat_minor": 0,
  "metadata": {
    "colab": {
      "provenance": []
    },
    "kernelspec": {
      "name": "python3",
      "display_name": "Python 3"
    },
    "language_info": {
      "name": "python"
    }
  },
  "cells": [
    {
      "cell_type": "code",
      "source": [
        "class Fila:\n",
        "  def __init__(self):\n",
        "    self.items = []\n",
        "  def enqueue(self, item):\n",
        "    self.items.append(item)\n",
        "  def dequeue(self):\n",
        "    if not self.is_empty():\n",
        "      return self.items.pop(0)\n",
        "    else:\n",
        "      return None\n",
        "  def front(self):\n",
        "    if not self.is_empty():\n",
        "      return self.items[0]\n",
        "    else:\n",
        "      return None\n",
        "  def is_empty(self):\n",
        "    return len(self.items) == 0\n",
        "  def size(self):\n",
        "    return len(self.items)\n",
        "\n",
        "fila = Fila()\n",
        "fila.enqueue(2)\n",
        "fila.enqueue(-5)\n",
        "fila.enqueue(0)\n",
        "print(fila.is_empty())\n",
        "print(fila.size())\n",
        "print(fila.front())\n",
        "\n",
        "print(fila.items)\n",
        "\n",
        "\n"
      ],
      "metadata": {
        "colab": {
          "base_uri": "https://localhost:8080/"
        },
        "id": "FrjBUuFMv6sL",
        "outputId": "36eacd7e-a38c-4f33-e497-49f873f568ca"
      },
      "execution_count": null,
      "outputs": [
        {
          "output_type": "stream",
          "name": "stdout",
          "text": [
            "False\n",
            "3\n",
            "2\n",
            "[2, -5, 0]\n"
          ]
        }
      ]
    },
    {
      "cell_type": "markdown",
      "source": [
        "1) Qual(is) a(s) diferença(s) entre uma pilha e uma fila? Dê um\n",
        "exemplo de cada uma das estruturas de dados aplicada a vida real\n",
        "\n",
        "Resposta: Uma pilha é uma estrutura de dados que, assim como um array, se assemelha a uma lista. O princípio fundamental por trás de uma pilha é o LIFO (Last In, First Out). Por outro lado, a fila também é uma estrutura semelhante à pilha, mas com uma diferença conceitual importante: o paradigma subjacente à fila é o FIFO (First In, First Out), que significa “o primeiro a entrar é o primeiro a sair”.\n",
        "\n",
        "Um exemplo famoso de uso de pilha é a call stack ou pilha de chamadas em um programa em execução. Nesse contexto, a ordem de execução dos processos “chamados” por meio de funções ou métodos segue o princípio da pilha.\n",
        "\n",
        "Já no caso de fila um exemplo seria uma fila de bilheteria, a pessoa que chegou primeiro será atendida (e comprará seu ingresso) antes daquelas que chegaram depois e estão atrás na fila. A fila, como estrutura de dados, segue esse mesmo princípio.\n",
        "\n",
        "\n",
        "\n",
        "\n",
        "\n"
      ],
      "metadata": {
        "id": "u5KmxzdfDJCv"
      }
    },
    {
      "cell_type": "markdown",
      "source": [
        "2) O estudante devem implementar uma fila para simular o controle\n",
        "de clientes em uma fila de um caixa de supermercado. Ele devem\n",
        "utilizar uma classe que represente a fila e implementar operações\n",
        "como adição de clientes e atendimento no caixa.\n",
        "\n",
        "Instruções:\n",
        "\n",
        "1) Crie uma classe chamada FilaSupermercado para representar a fila\n",
        "do caixa de um supermercado.\n",
        "\n",
        "2) Implemente o método adicionar_cliente que adiciona um cliente\n",
        "ao final da fila.\n",
        "\n",
        "3) Implemente o método atender_cliente que remove e retorna o\n",
        "cliente do início da fila, simulando o atendimento no caixa.\n",
        "\n",
        "4) Implemente o método verificar_fila que exibe a quantidade de\n",
        "clientes na fila no momento.!\n"
      ],
      "metadata": {
        "id": "yauMsN0NDMFc"
      }
    },
    {
      "cell_type": "code",
      "execution_count": null,
      "metadata": {
        "id": "Gb5TxcWqyuzw",
        "colab": {
          "base_uri": "https://localhost:8080/"
        },
        "outputId": "a8cadff9-7fde-4613-f73e-987842ee547e"
      },
      "outputs": [
        {
          "output_type": "stream",
          "name": "stdout",
          "text": [
            "Quantidade de clientes na fila: 3\n",
            "Atendendo cliente: Maria\n",
            "Quantidade de clientes na fila após atendimento: 2\n"
          ]
        }
      ],
      "source": [
        "class FilaSupermercado:\n",
        "    def __init__(self):\n",
        "        self.clientes = []\n",
        "\n",
        "    def adicionar_cliente(self, cliente):\n",
        "\n",
        "        self.clientes.append(cliente)\n",
        "\n",
        "    def atender_cliente(self):\n",
        "\n",
        "        if not self.clientes:\n",
        "            return \"Não há clientes na fila.\"\n",
        "        else:\n",
        "            cliente_atendido = self.clientes.pop(0)\n",
        "            return cliente_atendido\n",
        "\n",
        "    def verificar_fila(self):\n",
        "\n",
        "        return len(self.clientes)\n",
        "\n",
        "\n",
        "fila_caixa = FilaSupermercado()\n",
        "fila_caixa.adicionar_cliente(\"Maria\")\n",
        "fila_caixa.adicionar_cliente(\"Vitor\")\n",
        "fila_caixa.adicionar_cliente(\"Ana\")\n",
        "\n",
        "print(f\"Quantidade de clientes na fila: {fila_caixa.verificar_fila()}\")\n",
        "print(f\"Atendendo cliente: {fila_caixa.atender_cliente()}\")\n",
        "print(f\"Quantidade de clientes na fila após atendimento: {fila_caixa.verificar_fila()}\")\n",
        "\n"
      ]
    },
    {
      "cell_type": "markdown",
      "source": [
        "3) O estudante deve implementar uma fila de prioridades para\n",
        "simular o controle de atendimento médico em uma clínica. A fila de\n",
        "prioridades deve considerar a urgência dos casos para garantir que os\n",
        "pacientes mais críticos sejam atendidos primeiro.\n",
        "\n",
        "Instruções:\n",
        "\n",
        "1) Crie uma classe chamada FilaPrioridadesClinica para representar a\n",
        "fila de prioridades em uma clínica médica.\n",
        "\n",
        "2) Implemente o método adicionar_paciente que adiciona um\n",
        "paciente à fila considerando a sua urgência (prioridade).\n",
        "\n",
        "3) Implemente o método atender_paciente que remove e retorna o\n",
        "paciente de maior prioridade para simular o atendimento médico.\n",
        "\n",
        "4) Implemente o método verificar_fila que exibe a quantidade de\n",
        "pacientes na fila no momento.\n"
      ],
      "metadata": {
        "id": "r3YO-uOUDPIH"
      }
    },
    {
      "cell_type": "code",
      "source": [
        "class FilaPrioridadesClinica:\n",
        "    def __init__(self):\n",
        "        self.pacientes = []\n",
        "\n",
        "    def adicionar_paciente(self, paciente, urgencia):\n",
        "\n",
        "     # urgencia (int): Nível de urgência (quanto menor, mais urgente).\n",
        "        self.pacientes.append((paciente, urgencia))\n",
        "\n",
        "    def atender_paciente(self):\n",
        "\n",
        "        if not self.pacientes:\n",
        "            return \"Não há pacientes na fila.\"\n",
        "        else:\n",
        "\n",
        "            self.pacientes.sort(key=lambda x: x[1])\n",
        "            paciente_atendido = self.pacientes.pop(0)\n",
        "            return paciente_atendido[0]\n",
        "\n",
        "    def verificar_fila(self):\n",
        "\n",
        "        return len(self.pacientes)\n",
        "\n",
        "fila_clinica = FilaPrioridadesClinica()\n",
        "fila_clinica.adicionar_paciente(\"Luiza\", 3)\n",
        "fila_clinica.adicionar_paciente(\"João\", 1)\n",
        "fila_clinica.adicionar_paciente(\"Camilla\", 2)\n",
        "fila_clinica.adicionar_paciente(\"Jorge\", 1)\n",
        "\n",
        "print(f\"Quantidade de pacientes na fila: {fila_clinica.verificar_fila()}\")\n",
        "print(f\"Atendendo paciente: {fila_clinica.atender_paciente()}\")\n",
        "print(f\"Quantidade de pacientes na fila após atendimento: {fila_clinica.verificar_fila()}\")"
      ],
      "metadata": {
        "id": "7TO59qhEDSAw",
        "colab": {
          "base_uri": "https://localhost:8080/"
        },
        "outputId": "005082ae-35cf-42db-ba77-946a7d0d2760"
      },
      "execution_count": null,
      "outputs": [
        {
          "output_type": "stream",
          "name": "stdout",
          "text": [
            "Quantidade de pacientes na fila: 4\n",
            "Atendendo paciente: João\n",
            "Quantidade de pacientes na fila após atendimento: 3\n"
          ]
        }
      ]
    },
    {
      "cell_type": "markdown",
      "source": [
        "4) Neste exercício, o estudante deve implementar uma fila circular para simular a\n",
        "distribuição de tarefas em uma equipe de desenvolvimento de software. A fila\n",
        "circular será utilizada para designar tarefas aos membros da equipe de forma\n",
        "contínua, garantindo que todos tenham a oportunidade de contribuir.\n",
        "\n",
        "Instruções:\n",
        "\n",
        "1) Crie uma classe chamada FilaCircularTarefas para representar a fila circular de\n",
        "tarefas.\n",
        "\n",
        "2) Implemente o método adicionar_tarefa que adiciona uma tarefa ao final da\n",
        "fila, designando-a ao próximo membro disponível da equipe.\n",
        "\n",
        "3) Implemente o método realizar_tarefa que remove e retorna a tarefa do início\n",
        "da fila, simulando a conclusão da tarefa por um membro da equipe.\n",
        "\n",
        "4) Implemente o método verificar_fila que exibe a quantidade de tarefas na fila e\n",
        "a lista de membros da equipe."
      ],
      "metadata": {
        "id": "1fHuQXqHDSRP"
      }
    },
    {
      "cell_type": "code",
      "source": [
        "class FilaCircularTarefas:\n",
        "    def __init__(self, membros_equipe):\n",
        "        self.tarefas = []\n",
        "        self.membros_equipe = membros_equipe\n",
        "        self.indice_proximo_membro = 0\n",
        "    def adicionar_tarefa(self, tarefa):\n",
        "        self.tarefas.append((tarefa, self.membros_equipe[self.indice_proximo_membro]))\n",
        "        self.indice_proximo_membro = (self.indice_proximo_membro + 1) % len(self.membros_equipe)\n",
        "\n",
        "    def realizar_tarefa(self):\n",
        "        if not self.tarefas:\n",
        "            return \"Não há tarefas na fila.\"\n",
        "        else:\n",
        "            tarefa_realizada = self.tarefas.pop(0)\n",
        "            return tarefa_realizada\n",
        "\n",
        "    def verificar_fila(self):\n",
        "        return f\"Quantidade de tarefas na fila: {len(self.tarefas)}\\nMembros da equipe: {', '.join(self.membros_equipe)}\"\n",
        "\n",
        "\n",
        "equipe_desenvolvimento = [\"Andre\", \"Sofia\", \"Raquel\"]\n",
        "fila_tarefas = FilaCircularTarefas(equipe_desenvolvimento)\n",
        "\n",
        "fila_tarefas.adicionar_tarefa(\"Implementar login no sistema\")\n",
        "fila_tarefas.adicionar_tarefa(\"Corrigir bug no módulo de relatórios\")\n",
        "fila_tarefas.adicionar_tarefa(\"Otimizar consulta ao banco de dados\")\n",
        "\n",
        "print(fila_tarefas.verificar_fila())\n",
        "print(f\"Atendendo tarefa: {fila_tarefas.realizar_tarefa()}\")\n",
        "print(fila_tarefas.verificar_fila())\n",
        "print(f\"Atendendo tarefa: {fila_tarefas.realizar_tarefa()}\")\n",
        "print(fila_tarefas.verificar_fila())\n",
        "print(f\"Atendendo tarefa: {fila_tarefas.realizar_tarefa()}\")\n",
        "print(fila_tarefas.verificar_fila())\n",
        "\n",
        "\n",
        "fila_tarefas.adicionar_tarefa(\"Implmentar API no sistema\")\n",
        "print(f\"Atendendo tarefa: {fila_tarefas.realizar_tarefa()}\")\n"
      ],
      "metadata": {
        "id": "Dk_AGKLSDVv7",
        "colab": {
          "base_uri": "https://localhost:8080/"
        },
        "outputId": "e2c56b66-42a2-450c-cd76-982e9af0873d"
      },
      "execution_count": null,
      "outputs": [
        {
          "output_type": "stream",
          "name": "stdout",
          "text": [
            "Quantidade de tarefas na fila: 3\n",
            "Membros da equipe: Andre, Sofia, Raquel\n",
            "Atendendo tarefa: ('Implementar login no sistema', 'Andre')\n",
            "Quantidade de tarefas na fila: 2\n",
            "Membros da equipe: Andre, Sofia, Raquel\n",
            "Atendendo tarefa: ('Corrigir bug no módulo de relatórios', 'Sofia')\n",
            "Quantidade de tarefas na fila: 1\n",
            "Membros da equipe: Andre, Sofia, Raquel\n",
            "Atendendo tarefa: ('Otimizar consulta ao banco de dados', 'Raquel')\n",
            "Quantidade de tarefas na fila: 0\n",
            "Membros da equipe: Andre, Sofia, Raquel\n",
            "Atendendo tarefa: ('Implmentar API no sistema', 'Andre')\n"
          ]
        }
      ]
    }
  ]
}